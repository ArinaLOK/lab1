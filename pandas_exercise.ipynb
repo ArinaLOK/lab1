{
  "cells": [
    {
      "cell_type": "markdown",
      "metadata": {
        "id": "EEMFPCWdepEw"
      },
      "source": [
        "# Основы машинного обучения: лабораторная работа №1\n",
        "## Задание 3. Знакомство с Pandas\n",
        "\n",
        "В этом задании необходимо научиться базовым приемам работы с данными. Необходимо загрузить заданный по варианту датасет, провести разведочный анализ данных, сформулировать гипотезы о возможном значении всех полей в датасете, проверить эти гипотезы, и ответить на вопросы по данным. <!-- Если в конкретном задании не указано иное, проводить очистку данных (удаление пустых и невалидных значений) не нужно. -->\n",
        "\n",
        "### Цель\n",
        "\n",
        "Знакомство с разведочным анализом данных и применение Pandas для извлечения информации\n",
        "\n",
        "### Оценивание и баллы\n",
        "\n",
        "За это задание в общей сложности можно получить до 7 баллов. Задание частично проверяется автоматически, а частично будет оцениваться вручную. Чтобы получить максимальный балл,  необходимо успешно выполнить приведенные ниже задачи.\n",
        "\n",
        "## Важные замечания\n",
        "\n",
        "1. *Откройте этот файл в своем репозитории на GitHub и скопируйте адрес из адресной строки браузера. Перейдтие в [Google Colab](https://colab.research.google.com/), выберите `Файл -> Открыть ноутбук -> GitHub`, вставьте скопированный URL и нажмите кнопку поиска (кнопка с лупой справа от поля ввода строки для поиска). В Google Colab откроется копия этого ноутбука из персонального репозитория на GitHub.*\n",
        "2. *Не удаляйте и не изменяйте имена переменных в ячейках с кодом ниже. Можно добавлять в каждую ячейку произвольное количество строк кода, главное - сохранить результат решения задачи в предопределенную (-ые) переменную (-ые) в соответствующей ячейке. Если этого не сделать, автоматические тесты не будут пройдены.*\n",
        "3. *Чтобы сохранить работу, выбрите `Файл -> Сохранить копию на GitHub` и __вручную выберите правильный репозиторий из раскрывающегося списка__.*\n",
        "4. *Если в процессе выполнения задания этот файл окажется испорчен, ознакомьтесь с инструкцией в ноутбуке [jupyter_assignment](jupyter_assignment.ipynb), раздел \"Повторная сдача\".*  \n"
      ],
      "id": "EEMFPCWdepEw"
    },
    {
      "cell_type": "markdown",
      "metadata": {
        "id": "LCa5EIoUepEx"
      },
      "source": [
        "#### Задачи\n",
        "\n",
        "#### 1. Определить номер варианта\n",
        "Перейдите по ссылке из личного кабинета на Google Таблицу со списком студентов. Найдите свое ФИО в списке и запомните соответствующий порядковый номер (поле № п/п) в первом столбце. Заполните его в ячейке ниже и выполните ячейку. Если вы не можете найти себя в списке, обратитесь к своему преподавателю."
      ],
      "id": "LCa5EIoUepEx"
    },
    {
      "cell_type": "code",
      "execution_count": 1,
      "metadata": {
        "id": "fKG-zjQQepEy"
      },
      "outputs": [],
      "source": [
        "### BEGIN YOUR CODE\n",
        "\n",
        "Student_ID = 14\n",
        "\n",
        "### END YOUR CODE"
      ],
      "id": "fKG-zjQQepEy"
    },
    {
      "cell_type": "markdown",
      "metadata": {
        "id": "Yto65MN-epEy"
      },
      "source": [
        "Теперь выполните следующую ячейку. Она вычислит номер задания и выведет его."
      ],
      "id": "Yto65MN-epEy"
    },
    {
      "cell_type": "code",
      "execution_count": 2,
      "metadata": {
        "id": "20hYms-sepEz",
        "outputId": "3dc19e5e-5369-4591-83a0-d19e68c651b4",
        "colab": {
          "base_uri": "https://localhost:8080/"
        }
      },
      "outputs": [
        {
          "output_type": "stream",
          "name": "stdout",
          "text": [
            "Датасет 'Open Food Facts' доступен по следующей ссылке: https://raw.githubusercontent.com/markpolyak/datasets/refs/heads/main/data/en.openfoodfacts.org.products.tsv.tar.bz2\n",
            "В заданиях ниже, где нужно выбрать вопрос, всегда выбирайте вопрос № 3\n"
          ]
        }
      ],
      "source": [
        "datasets = [('Chipotle','https://raw.githubusercontent.com/justmarkham/DAT8/master/data/chipotle.tsv'), ('US Air Carrier market in 2019','https://raw.githubusercontent.com/markpolyak/datasets/refs/heads/main/data/aircarrier_market_us_2019.zip'), ('Open Food Facts', 'https://raw.githubusercontent.com/markpolyak/datasets/refs/heads/main/data/en.openfoodfacts.org.products.tsv.tar.bz2')]\n",
        "\n",
        "dataset_id = None if Student_ID is None else Student_ID % 3\n",
        "if dataset_id is None:\n",
        "    print(\"ОШИБКА! Не указан порядковый номер студента в списке группы.\")\n",
        "else:\n",
        "    print(f\"Датасет '{datasets[dataset_id][0]}' доступен по следующей ссылке: {datasets[dataset_id][1]}\")\n",
        "    print(f\"В заданиях ниже, где нужно выбрать вопрос, всегда выбирайте вопрос № {dataset_id+1}\")"
      ],
      "id": "20hYms-sepEz"
    },
    {
      "cell_type": "markdown",
      "metadata": {
        "id": "-NAFgPklepEz"
      },
      "source": [
        "Скачайте датасет с помощью команды `!wget <dataset_url>`, где `<dataset_url>` необходимо заменить на ссылку на датасет, появившуюся после выполнения предыдущей ячейки. При необходимости разархивируйте датасет, используя команды `!unzip`, `!tar` и др.\n",
        "\n",
        "*Примечание: в Jupyter-ноутбуке можно использовать любые команды командного интерпретатора bash. Для этого необходимо поставить в ячейке с кодом восклицательный знак `!`, после которого записать команду bash со всеми необходимыми аргументами. Результат выполнения этой команды bash будет возвращен в Jupyter и его можно использовать в коде на Python.*"
      ],
      "id": "-NAFgPklepEz"
    },
    {
      "cell_type": "code",
      "execution_count": 2,
      "metadata": {
        "id": "HUK9mrPjepEz",
        "outputId": "208ae47c-7b4d-4f61-c2b2-2c9074f070d6",
        "colab": {
          "base_uri": "https://localhost:8080/"
        }
      },
      "outputs": [
        {
          "output_type": "stream",
          "name": "stdout",
          "text": [
            "--2024-10-21 22:19:59--  https://raw.githubusercontent.com/markpolyak/datasets/refs/heads/main/data/en.openfoodfacts.org.products.tsv.tar.bz2\n",
            "Resolving raw.githubusercontent.com (raw.githubusercontent.com)... 185.199.108.133, 185.199.111.133, 185.199.109.133, ...\n",
            "Connecting to raw.githubusercontent.com (raw.githubusercontent.com)|185.199.108.133|:443... connected.\n",
            "HTTP request sent, awaiting response... 200 OK\n",
            "Length: 75977297 (72M) [application/octet-stream]\n",
            "Saving to: ‘en.openfoodfacts.org.products.tsv.tar.bz2’\n",
            "\n",
            "en.openfoodfacts.or 100%[===================>]  72.46M  86.0MB/s    in 0.8s    \n",
            "\n",
            "2024-10-21 22:20:04 (86.0 MB/s) - ‘en.openfoodfacts.org.products.tsv.tar.bz2’ saved [75977297/75977297]\n",
            "\n",
            "._en.openfoodfacts.org.products.tsv\n",
            "en.openfoodfacts.org.products.tsv\n"
          ]
        }
      ],
      "source": [
        "### BEGIN YOUR CODE\n",
        "\n",
        "!wget https://raw.githubusercontent.com/markpolyak/datasets/refs/heads/main/data/en.openfoodfacts.org.products.tsv.tar.bz2\n",
        "\n",
        "# !unzip ...\n",
        "!tar -xvjf en.openfoodfacts.org.products.tsv.tar.bz2\n",
        "# !gunzip ...\n",
        "\n",
        "### END YOUR CODE"
      ],
      "id": "HUK9mrPjepEz"
    },
    {
      "cell_type": "markdown",
      "metadata": {
        "id": "SZkE-MuHepE0"
      },
      "source": [
        "##### 2. Загрузите датасет в pandas.DataFrame, сохраните его в переменной `df`. Cконвертируйте названия столбцов в нижний регистр"
      ],
      "id": "SZkE-MuHepE0"
    },
    {
      "cell_type": "code",
      "execution_count": 3,
      "metadata": {
        "id": "L0BuDDyTepE0",
        "outputId": "cd980a59-2413-4f80-b312-0e65e4afa576",
        "colab": {
          "base_uri": "https://localhost:8080/"
        }
      },
      "outputs": [
        {
          "output_type": "stream",
          "name": "stderr",
          "text": [
            "<ipython-input-3-6ba170555da5>:8: DtypeWarning: Columns (0,3,5,19,20,24,25,26,27,28,36,37,38,39,48) have mixed types. Specify dtype option on import or set low_memory=False.\n",
            "  df = pd.read_csv('en.openfoodfacts.org.products.tsv', sep='\\t')\n"
          ]
        }
      ],
      "source": [
        "import pandas as pd\n",
        "import tarfile\n",
        "\n",
        "file_path = 'en.openfoodfacts.org.products.tsv.tar.bz2'\n",
        "with tarfile.open(file_path, 'r:bz2') as tar:\n",
        "    tar.extractall()\n",
        "\n",
        "df = pd.read_csv('en.openfoodfacts.org.products.tsv', sep='\\t')\n",
        "\n",
        "df.columns = df.columns.str.lower()\n"
      ],
      "id": "L0BuDDyTepE0"
    },
    {
      "cell_type": "markdown",
      "metadata": {
        "id": "7J5Q-aQ-epE1"
      },
      "source": [
        "##### 3. Какие столбцы присутствуют в наборе данных? (0.25 балла)"
      ],
      "id": "7J5Q-aQ-epE1"
    },
    {
      "cell_type": "code",
      "execution_count": null,
      "metadata": {
        "id": "DLYy4wy5epE1"
      },
      "outputs": [],
      "source": [
        "columns = ... # Place your code here instead of '...'\n",
        "\n",
        "print(columns)"
      ],
      "id": "DLYy4wy5epE1"
    },
    {
      "cell_type": "markdown",
      "metadata": {
        "id": "LNmeev1DepE2"
      },
      "source": [
        "##### 4. Ответьте на вопрос и сохраните ответ в переменной `answer1` (0.25 балла)\n",
        "\n",
        "Вопросы:\n",
        "1. Какое блюдо (`item_name`) заказывали чаще всего?\n",
        "2. Сколько авиаперевозчиков (`carrier`) представлены в датасете?\n",
        "3. По скольки продуктам в датасете имеется информация о содержании аллергенов (`allergens`)?"
      ],
      "id": "LNmeev1DepE2"
    },
    {
      "cell_type": "code",
      "execution_count": null,
      "metadata": {
        "id": "MXGr9haPepE2"
      },
      "outputs": [],
      "source": [
        "answer1 = ... # Place your code here instead of '...'\n",
        "\n",
        "print(answer1)"
      ],
      "id": "MXGr9haPepE2"
    },
    {
      "cell_type": "markdown",
      "metadata": {
        "id": "mWfBhu-sepE2"
      },
      "source": [
        "##### 5. Ответьте на вопрос и сохраните ответ в переменной `answer2` (0.5 балла)\n",
        "\n",
        "Вопросы:\n",
        "1. Сколько всего было заказов блюда, название которого сохранено в `answer1`?\n",
        "2. Посчитайте общие суммарные количества перевезенных пассажиров (`passangers`), фунтов груза (`freight`) и почты (`mail`) на маршруте из Великобритании (UK) в США (US). В `answer2` запишите максимальное из трех получившихся чисел.\n",
        "3. Сколько всего продуктов, относящихся к категории \"молочные\" (`Dairies,Milks`), с заполненным названием?"
      ],
      "id": "mWfBhu-sepE2"
    },
    {
      "cell_type": "code",
      "execution_count": null,
      "metadata": {
        "id": "blKwafHJepE3"
      },
      "outputs": [],
      "source": [
        "answer2 = ... # Place your code here instead of '...'\n",
        "\n",
        "print(answer2)"
      ],
      "id": "blKwafHJepE3"
    },
    {
      "cell_type": "markdown",
      "metadata": {
        "id": "uT66xkADepE3"
      },
      "source": [
        "##### 6. Ответьте на вопрос и сохраните ответ в переменной `answer3` (0.5 балла)\n",
        "\n",
        "Вопросы:\n",
        "1. Какой доход получила сеть Chipotle Mexican Grill на заказах, попавших в датасет?\n",
        "2. Какой авиаперевозчик (`unique_carrier_name`) перевез больше всего груза (`mail` + `freight`)?\n",
        "3. Как называется продукт категории `Fats` с максимальной жирностью, не превышающей 30 г на 100 г продукта?"
      ],
      "id": "uT66xkADepE3"
    },
    {
      "cell_type": "code",
      "execution_count": null,
      "metadata": {
        "id": "-m0jFW7zepE3"
      },
      "outputs": [],
      "source": [
        "answer3 = ... # Place your code here instead of '...'\n",
        "\n",
        "print(answer3)"
      ],
      "id": "-m0jFW7zepE3"
    },
    {
      "cell_type": "markdown",
      "metadata": {
        "id": "GE5QkLuDepE3"
      },
      "source": [
        "##### 7. Ответьте на вопрос и сохраните ответ в переменной `answer4` (0.5 балла)\n",
        "\n",
        "Вопросы:\n",
        "1. Каков средний доход с одного заказа?\n",
        "2. Какое максимальное количество пассажиров одна авиакомпания смогла перевезти из США в другие страны за все время?\n",
        "3. Какова энергетическая ценность в кДж продукта из России (`category_en`) имеющего максимальное содержание холистерина?"
      ],
      "id": "GE5QkLuDepE3"
    },
    {
      "cell_type": "code",
      "execution_count": null,
      "metadata": {
        "id": "H4lGj_fWepE3"
      },
      "outputs": [],
      "source": [
        "answer4 = ... # Place your code here instead of '...'\n",
        "\n",
        "print(answer4)"
      ],
      "id": "H4lGj_fWepE3"
    },
    {
      "cell_type": "markdown",
      "metadata": {
        "id": "BfOv1XdDepE4"
      },
      "source": [
        "##### 8. Ответьте на вопрос и сохраните ответ в переменной `answer5` (1 балл)\n",
        "\n",
        "Вопросы:\n",
        "1. Сколько раз был заказан самый популярный напиток (Coke, Sprite, Mountain Dew и т.п.)?\n",
        "2. Между какими двумя городами было перевезено наибольшее количество пассажиров? Учтите оба направления. Ответ запишите в виде списка из двух строк.\n",
        "3. Привести названия всех аллергенов к нижнему регистру. Какой аллерген встречается в продуктах чаще всего?"
      ],
      "id": "BfOv1XdDepE4"
    },
    {
      "cell_type": "code",
      "execution_count": null,
      "metadata": {
        "id": "_mwX0pFJepE4"
      },
      "outputs": [],
      "source": [
        "answer5 = ... # Place your code here instead of '...'\n",
        "\n",
        "print(answer5)"
      ],
      "id": "_mwX0pFJepE4"
    },
    {
      "cell_type": "markdown",
      "metadata": {
        "id": "riZtd-OkepE4"
      },
      "source": [
        "##### 9. Ответьте на вопрос и сохраните ответ в переменной `answer6` (1 балл)\n",
        "\n",
        "Вопросы:\n",
        "1. Какой суммарный доход принесли напитки в заказах вегетарианцев?\n",
        "2. Для пары городов из предыдущего вопроса найдите 3 авиакомпании, которые перевезли больше всего пассажиров. Посчитайте, какой процент от общего пассажиропотока между этими городами перевезла каждая из трех авиакомпаний. В `answer6` запишите найденные проценты в виде списка из трех чисел, округлив их до двух знаков после запятой.\n",
        "3. Найти самый опасный продукт, содержащий наибольшее количество аллергенов."
      ],
      "id": "riZtd-OkepE4"
    },
    {
      "cell_type": "code",
      "execution_count": null,
      "metadata": {
        "id": "eaQWUTErepE4"
      },
      "outputs": [],
      "source": [
        "answer6 = ... # Place your code here instead of '...'\n",
        "\n",
        "print(answer6)"
      ],
      "id": "eaQWUTErepE4"
    },
    {
      "cell_type": "markdown",
      "metadata": {
        "id": "ZbH0PEhWepE4"
      },
      "source": [
        "##### 10. Ответьте на вопрос и сохраните ответ в переменной `answer7` (1 балл)\n",
        "\n",
        "Вопросы:\n",
        "1. Сколько было сделано вегетарианских заказов? Заказ не считается вегетарианским, если в нем были не вегетарианские блюда.\n",
        "2. Для каждой страны найдите процент международного пассажиропотока (относительно США), используя общее количество пассажиров на рейсах класса F. В `answer7` запишите название страны с третьим по величине пассажиропотоком в/из США.\n",
        "3. Переведите названия групп продуктов (`pnns_groups_1`, `pnns_groups_2`) в нижний регистр. В переменную `answer7` запишите список, содержащий три элемента: название группы продуктов 1, название группы продуктов 2 и среднее количество пищевых волокон (`fiber`) для седьмой по насыщенности пищевыми волокнами группы продуктов."
      ],
      "id": "ZbH0PEhWepE4"
    },
    {
      "cell_type": "code",
      "execution_count": null,
      "metadata": {
        "id": "4FYXXOe4epE4"
      },
      "outputs": [],
      "source": [
        "answer7 = ... # Place your code here instead of '...'\n",
        "\n",
        "print(answer7)"
      ],
      "id": "4FYXXOe4epE4"
    },
    {
      "cell_type": "markdown",
      "metadata": {
        "id": "0y9d8d9hepE4"
      },
      "source": [
        "##### 11. Ответьте на вопрос и сохраните ответ в переменной `answer8` (1 балл)\n",
        "\n",
        "Вопросы:\n",
        "1. Какой соус или дополнительный ингредиент по выбору (`choice_description`) чаще всего берут вместе с бурито с курицей (Chicken Burrito)?\n",
        "2. В каком месяце пассажиропоток между городами, записанными в переменную `answer5`, был максимальным?\n",
        "3. Какое название у группы продуктов `pnns_groups_2`, явояющейся наиболее сбалансированной с точки зрения среднего содержания калорий, жиров и углеводов? Под \"сбалансированной\" понимать близость БЖУ к пропорции 1:1:4."
      ],
      "id": "0y9d8d9hepE4"
    },
    {
      "cell_type": "code",
      "execution_count": null,
      "metadata": {
        "id": "twwM1NX4epE4"
      },
      "outputs": [],
      "source": [
        "answer8 = ... # Place your code here instead of '...'\n",
        "\n",
        "print(answer8)"
      ],
      "id": "twwM1NX4epE4"
    },
    {
      "cell_type": "markdown",
      "metadata": {
        "id": "oIt853YlepE4"
      },
      "source": [
        "##### 12. Визуализируйте данные в соответствии с заданием (1 балл)\n",
        "\n",
        "1. Построить гистограмму распределения общей стоимости заказов. Найти и отметить на графике средний чек и медианную стоимость заказа.\n",
        "2. Постройте стековую столбчатую гистограмму пассажиропотока с разбивкой по городам (отдельные столбцы) и авиакомпаниям (разбивка внутри столбца).\n",
        "3. Построить столбчатую гистограмму усредненной по группам продуктов энергетической ценности, с группировкой по `pnns_groups_1`.\n"
      ],
      "id": "oIt853YlepE4"
    },
    {
      "cell_type": "code",
      "execution_count": null,
      "metadata": {
        "id": "mUtMzxxwepE5"
      },
      "outputs": [],
      "source": [
        "# Place your code here"
      ],
      "id": "mUtMzxxwepE5"
    }
  ],
  "metadata": {
    "kernelspec": {
      "display_name": "Python 3 (ipykernel)",
      "language": "python",
      "name": "python3"
    },
    "language_info": {
      "codemirror_mode": {
        "name": "ipython",
        "version": 3
      },
      "file_extension": ".py",
      "mimetype": "text/x-python",
      "name": "python",
      "nbconvert_exporter": "python",
      "pygments_lexer": "ipython3",
      "version": "3.7.16"
    },
    "colab": {
      "provenance": []
    }
  },
  "nbformat": 4,
  "nbformat_minor": 5
}